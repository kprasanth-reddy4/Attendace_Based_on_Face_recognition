{
 "cells": [
  {
   "cell_type": "code",
   "execution_count": 1,
   "metadata": {},
   "outputs": [
    {
     "name": "stdout",
     "output_type": "stream",
     "text": [
      "[INFO] quantifying faces...\n",
      "[INFO] processing image 1/3 \n",
      "[INFO] processing image 2/3 \n",
      "[INFO] processing image 3/3 \n",
      "[INFO] encoding completed...\n"
     ]
    }
   ],
   "source": [
    "from imutils import paths\n",
    "import face_recognition \n",
    "import pickle\n",
    "import cv2\n",
    "import os\n",
    "print(\"[INFO] quantifying faces...\")\n",
    "dataset=\"C:\\\\Users\\\\91809\\\\OneDrive\\\\Desktop\\\\project2\\\\dataset\"\n",
    "imagepaths=list(paths.list_images(dataset))\n",
    "knownEncodings = []\n",
    "knowNames = []\n",
    "for (i,imagepath) in enumerate(imagepaths):\n",
    "    print(\"[INFO] processing image {}/{} \".format(i+1,len(imagepaths)))\n",
    "    name=imagepath.split(os.path.sep)[-2]\n",
    "    image = cv2.imread(imagepath)\n",
    "    rgb=cv2.cvtColor(image,cv2.COLOR_BGR2RGB)\n",
    "    boxes=face_recognition.face_locations(rgb,model='cnn')\n",
    "    encodings=face_recognition.face_encodings(rgb,boxes)\n",
    "    \n",
    "    for encoding in encodings:\n",
    "        knownEncodings.append(encoding)\n",
    "        knowNames.append(name)\n",
    "print(\"[INFO] encoding completed...\")\n",
    "data={\"encodings\":knownEncodings,\"names\":knowNames}\n",
    "f=open(\"C:\\\\Users\\\\91809\\\\OneDrive\\\\Desktop\\\\project2\\\\encoding.plx\",\"wb\")\n",
    "f.write(pickle.dumps(data))\n",
    "f.close()\n",
    "    "
   ]
  },
  {
   "cell_type": "code",
   "execution_count": null,
   "metadata": {},
   "outputs": [],
   "source": []
  }
 ],
 "metadata": {
  "kernelspec": {
   "display_name": "Python 3",
   "language": "python",
   "name": "python3"
  },
  "language_info": {
   "codemirror_mode": {
    "name": "ipython",
    "version": 3
   },
   "file_extension": ".py",
   "mimetype": "text/x-python",
   "name": "python",
   "nbconvert_exporter": "python",
   "pygments_lexer": "ipython3",
   "version": "3.7.4"
  }
 },
 "nbformat": 4,
 "nbformat_minor": 2
}
