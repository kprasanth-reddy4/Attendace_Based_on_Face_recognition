{
 "cells": [
  {
   "cell_type": "code",
   "execution_count": null,
   "metadata": {},
   "outputs": [],
   "source": []
  },
  {
   "cell_type": "code",
   "execution_count": 1,
   "metadata": {},
   "outputs": [
    {
     "name": "stdout",
     "output_type": "stream",
     "text": [
      "[INFO] starting video stream..\n",
      "[INFO] 2 face images stored\n",
      "[INFO] cleaning up..\n"
     ]
    }
   ],
   "source": [
    "from imutils.video import VideoStream\n",
    "import imutils\n",
    "import time\n",
    "import cv2\n",
    "import argparse\n",
    "import os\n",
    "ap=argparse.ArgumentParser()\n",
    "cascade=\"C:\\\\Users\\\\91809\\\\OneDrive\\\\Desktop\\\\project2\\\\haarcascade_frontalface_default.xml\"\n",
    "output=\"C:\\\\Users\\\\91809\\\\OneDrive\\\\Desktop\\\\project2\\\\dataset\\\\venkatesh\"\n",
    "detector=cv2.CascadeClassifier(cascade)\n",
    "print(\"[INFO] starting video stream..\")\n",
    "vs=VideoStream(src=0).start()\n",
    "time.sleep(2.0)\n",
    "total=0\n",
    "while True:\n",
    "    frame=vs.read()\n",
    "    orig=frame.copy()\n",
    "    frame=imutils.resize(frame,width=400)\n",
    "    rects=detector.detectMultiScale(cv2.cvtColor(frame,cv2.COLOR_BGR2GRAY),scaleFactor=1.1, minNeighbors=5,minSize=(30,30))\n",
    "    key=''\n",
    "    for (x,y,w,h) in rects:\n",
    "        cv2.rectangle(frame,(x,y),(x+w,y+h),(0,255,0),2) \n",
    "        cv2.imshow(\"Frame\",frame)\n",
    "        key=cv2.waitKey(1)& 0XFF\n",
    "        \n",
    "        if key == ord('k'):\n",
    "            p=os.path.sep.join([output,\"{}.png\".format(str(total).zfill(5))])\n",
    "            cv2.imwrite(p,orig)\n",
    "            total+=1\n",
    "        elif key == ord('q'):\n",
    "            break\n",
    "    if key == ord('q'):\n",
    "            break\n",
    "print(\"[INFO] {} face images stored\".format(total))\n",
    "print(\"[INFO] cleaning up..\")\n",
    "cv2.destroyAllWindows()\n",
    "vs.stop()"
   ]
  },
  {
   "cell_type": "code",
   "execution_count": null,
   "metadata": {},
   "outputs": [],
   "source": []
  },
  {
   "cell_type": "code",
   "execution_count": null,
   "metadata": {},
   "outputs": [],
   "source": []
  }
 ],
 "metadata": {
  "kernelspec": {
   "display_name": "Python 3",
   "language": "python",
   "name": "python3"
  },
  "language_info": {
   "codemirror_mode": {
    "name": "ipython",
    "version": 3
   },
   "file_extension": ".py",
   "mimetype": "text/x-python",
   "name": "python",
   "nbconvert_exporter": "python",
   "pygments_lexer": "ipython3",
   "version": "3.7.4"
  }
 },
 "nbformat": 4,
 "nbformat_minor": 2
}
